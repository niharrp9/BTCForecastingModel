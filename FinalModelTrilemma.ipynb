{
 "cells": [
  {
   "cell_type": "markdown",
   "id": "519ceea6",
   "metadata": {},
   "source": [
    "# BTC Price Prediction:"
   ]
  },
  {
   "cell_type": "markdown",
   "id": "2900291d",
   "metadata": {},
   "source": [
    "## Import all the required packages:"
   ]
  },
  {
   "cell_type": "code",
   "execution_count": 1,
   "id": "e9924dbc",
   "metadata": {
    "ExecuteTime": {
     "end_time": "2024-07-09T22:06:28.516723Z",
     "start_time": "2024-07-09T22:06:23.632488Z"
    }
   },
   "outputs": [
    {
     "name": "stderr",
     "output_type": "stream",
     "text": [
      "C:\\Users\\nihar\\anaconda3\\Lib\\site-packages\\pandas\\core\\arrays\\masked.py:60: UserWarning: Pandas requires version '1.3.6' or newer of 'bottleneck' (version '1.3.5' currently installed).\n",
      "  from pandas.core import (\n"
     ]
    }
   ],
   "source": [
    "# Necessary imports\n",
    "import yfinance as yf\n",
    "import pandas as pd\n",
    "import numpy as np\n",
    "from datetime import datetime\n",
    "from statsmodels.tsa.holtwinters import ExponentialSmoothing\n",
    "from sklearn.metrics import mean_absolute_error\n",
    "\n",
    "import warnings\n",
    "from statsmodels.tools.sm_exceptions import ConvergenceWarning\n",
    "\n",
    "# Suppress warnings to keep the output cleanb\n",
    "warnings.filterwarnings(\"ignore\", category=UserWarning)\n",
    "warnings.filterwarnings(\"ignore\", category=FutureWarning)\n",
    "\n",
    "import seaborn as sns\n",
    "import matplotlib.pyplot as plt"
   ]
  },
  {
   "cell_type": "markdown",
   "id": "3f1e8368",
   "metadata": {},
   "source": [
    "## Step 1: Get the BTC price:"
   ]
  },
  {
   "cell_type": "code",
   "execution_count": 2,
   "id": "c465e557",
   "metadata": {
    "ExecuteTime": {
     "end_time": "2024-07-09T22:06:29.088014Z",
     "start_time": "2024-07-09T22:06:28.519732Z"
    }
   },
   "outputs": [
    {
     "name": "stderr",
     "output_type": "stream",
     "text": [
      "[*********************100%%**********************]  1 of 1 completed\n"
     ]
    },
    {
     "data": {
      "text/html": [
       "<div>\n",
       "<style scoped>\n",
       "    .dataframe tbody tr th:only-of-type {\n",
       "        vertical-align: middle;\n",
       "    }\n",
       "\n",
       "    .dataframe tbody tr th {\n",
       "        vertical-align: top;\n",
       "    }\n",
       "\n",
       "    .dataframe thead th {\n",
       "        text-align: right;\n",
       "    }\n",
       "</style>\n",
       "<table border=\"1\" class=\"dataframe\">\n",
       "  <thead>\n",
       "    <tr style=\"text-align: right;\">\n",
       "      <th></th>\n",
       "      <th>Open</th>\n",
       "      <th>High</th>\n",
       "      <th>Low</th>\n",
       "      <th>Close</th>\n",
       "      <th>Adj Close</th>\n",
       "      <th>Volume</th>\n",
       "    </tr>\n",
       "    <tr>\n",
       "      <th>Date</th>\n",
       "      <th></th>\n",
       "      <th></th>\n",
       "      <th></th>\n",
       "      <th></th>\n",
       "      <th></th>\n",
       "      <th></th>\n",
       "    </tr>\n",
       "  </thead>\n",
       "  <tbody>\n",
       "    <tr>\n",
       "      <th>2024-06-19</th>\n",
       "      <td>65146.660156</td>\n",
       "      <td>65695.351562</td>\n",
       "      <td>64693.300781</td>\n",
       "      <td>64960.296875</td>\n",
       "      <td>64960.296875</td>\n",
       "      <td>21103423504</td>\n",
       "    </tr>\n",
       "    <tr>\n",
       "      <th>2024-06-20</th>\n",
       "      <td>64960.296875</td>\n",
       "      <td>66438.960938</td>\n",
       "      <td>64547.847656</td>\n",
       "      <td>64828.656250</td>\n",
       "      <td>64828.656250</td>\n",
       "      <td>25641109124</td>\n",
       "    </tr>\n",
       "    <tr>\n",
       "      <th>2024-06-21</th>\n",
       "      <td>64837.988281</td>\n",
       "      <td>65007.546875</td>\n",
       "      <td>63378.894531</td>\n",
       "      <td>64096.199219</td>\n",
       "      <td>64096.199219</td>\n",
       "      <td>26188171739</td>\n",
       "    </tr>\n",
       "    <tr>\n",
       "      <th>2024-06-22</th>\n",
       "      <td>64113.863281</td>\n",
       "      <td>64475.468750</td>\n",
       "      <td>63929.757812</td>\n",
       "      <td>64252.578125</td>\n",
       "      <td>64252.578125</td>\n",
       "      <td>9858198793</td>\n",
       "    </tr>\n",
       "    <tr>\n",
       "      <th>2024-06-23</th>\n",
       "      <td>64248.964844</td>\n",
       "      <td>64491.703125</td>\n",
       "      <td>63180.796875</td>\n",
       "      <td>63180.796875</td>\n",
       "      <td>63180.796875</td>\n",
       "      <td>11170471802</td>\n",
       "    </tr>\n",
       "    <tr>\n",
       "      <th>2024-06-24</th>\n",
       "      <td>63173.351562</td>\n",
       "      <td>63292.527344</td>\n",
       "      <td>58601.699219</td>\n",
       "      <td>60277.414062</td>\n",
       "      <td>60277.414062</td>\n",
       "      <td>43152133651</td>\n",
       "    </tr>\n",
       "    <tr>\n",
       "      <th>2024-06-25</th>\n",
       "      <td>60266.281250</td>\n",
       "      <td>62258.261719</td>\n",
       "      <td>60239.750000</td>\n",
       "      <td>61804.640625</td>\n",
       "      <td>61804.640625</td>\n",
       "      <td>29201215431</td>\n",
       "    </tr>\n",
       "    <tr>\n",
       "      <th>2024-06-26</th>\n",
       "      <td>61789.675781</td>\n",
       "      <td>62434.136719</td>\n",
       "      <td>60695.187500</td>\n",
       "      <td>60811.277344</td>\n",
       "      <td>60811.277344</td>\n",
       "      <td>22506003064</td>\n",
       "    </tr>\n",
       "    <tr>\n",
       "      <th>2024-06-27</th>\n",
       "      <td>60811.226562</td>\n",
       "      <td>62293.863281</td>\n",
       "      <td>60585.332031</td>\n",
       "      <td>61604.800781</td>\n",
       "      <td>61604.800781</td>\n",
       "      <td>21231745045</td>\n",
       "    </tr>\n",
       "    <tr>\n",
       "      <th>2024-06-28</th>\n",
       "      <td>61612.804688</td>\n",
       "      <td>62126.097656</td>\n",
       "      <td>59985.402344</td>\n",
       "      <td>60320.136719</td>\n",
       "      <td>60320.136719</td>\n",
       "      <td>24952866877</td>\n",
       "    </tr>\n",
       "    <tr>\n",
       "      <th>2024-06-29</th>\n",
       "      <td>60319.875000</td>\n",
       "      <td>61097.621094</td>\n",
       "      <td>60300.964844</td>\n",
       "      <td>60887.378906</td>\n",
       "      <td>60887.378906</td>\n",
       "      <td>12652903396</td>\n",
       "    </tr>\n",
       "    <tr>\n",
       "      <th>2024-06-30</th>\n",
       "      <td>60888.445312</td>\n",
       "      <td>62892.828125</td>\n",
       "      <td>60632.949219</td>\n",
       "      <td>62678.292969</td>\n",
       "      <td>62678.292969</td>\n",
       "      <td>17333226409</td>\n",
       "    </tr>\n",
       "    <tr>\n",
       "      <th>2024-07-01</th>\n",
       "      <td>62673.605469</td>\n",
       "      <td>63777.226562</td>\n",
       "      <td>62495.511719</td>\n",
       "      <td>62851.980469</td>\n",
       "      <td>62851.980469</td>\n",
       "      <td>25468379421</td>\n",
       "    </tr>\n",
       "    <tr>\n",
       "      <th>2024-07-02</th>\n",
       "      <td>62844.410156</td>\n",
       "      <td>63203.359375</td>\n",
       "      <td>61752.746094</td>\n",
       "      <td>62029.015625</td>\n",
       "      <td>62029.015625</td>\n",
       "      <td>20151616992</td>\n",
       "    </tr>\n",
       "    <tr>\n",
       "      <th>2024-07-03</th>\n",
       "      <td>62034.332031</td>\n",
       "      <td>62187.703125</td>\n",
       "      <td>59419.386719</td>\n",
       "      <td>60173.921875</td>\n",
       "      <td>60173.921875</td>\n",
       "      <td>29756701685</td>\n",
       "    </tr>\n",
       "    <tr>\n",
       "      <th>2024-07-04</th>\n",
       "      <td>60147.136719</td>\n",
       "      <td>60399.675781</td>\n",
       "      <td>56777.804688</td>\n",
       "      <td>56977.703125</td>\n",
       "      <td>56977.703125</td>\n",
       "      <td>41149609230</td>\n",
       "    </tr>\n",
       "    <tr>\n",
       "      <th>2024-07-05</th>\n",
       "      <td>57022.808594</td>\n",
       "      <td>57497.152344</td>\n",
       "      <td>53717.375000</td>\n",
       "      <td>56662.375000</td>\n",
       "      <td>56662.375000</td>\n",
       "      <td>55417544033</td>\n",
       "    </tr>\n",
       "    <tr>\n",
       "      <th>2024-07-06</th>\n",
       "      <td>56659.074219</td>\n",
       "      <td>58472.546875</td>\n",
       "      <td>56038.960938</td>\n",
       "      <td>58303.539062</td>\n",
       "      <td>58303.539062</td>\n",
       "      <td>20610320577</td>\n",
       "    </tr>\n",
       "    <tr>\n",
       "      <th>2024-07-07</th>\n",
       "      <td>58239.429688</td>\n",
       "      <td>58371.121094</td>\n",
       "      <td>55793.324219</td>\n",
       "      <td>55849.109375</td>\n",
       "      <td>55849.109375</td>\n",
       "      <td>20553359505</td>\n",
       "    </tr>\n",
       "    <tr>\n",
       "      <th>2024-07-08</th>\n",
       "      <td>55849.574219</td>\n",
       "      <td>58131.335938</td>\n",
       "      <td>54321.019531</td>\n",
       "      <td>56705.097656</td>\n",
       "      <td>56705.097656</td>\n",
       "      <td>39766159899</td>\n",
       "    </tr>\n",
       "  </tbody>\n",
       "</table>\n",
       "</div>"
      ],
      "text/plain": [
       "                    Open          High           Low         Close  \\\n",
       "Date                                                                 \n",
       "2024-06-19  65146.660156  65695.351562  64693.300781  64960.296875   \n",
       "2024-06-20  64960.296875  66438.960938  64547.847656  64828.656250   \n",
       "2024-06-21  64837.988281  65007.546875  63378.894531  64096.199219   \n",
       "2024-06-22  64113.863281  64475.468750  63929.757812  64252.578125   \n",
       "2024-06-23  64248.964844  64491.703125  63180.796875  63180.796875   \n",
       "2024-06-24  63173.351562  63292.527344  58601.699219  60277.414062   \n",
       "2024-06-25  60266.281250  62258.261719  60239.750000  61804.640625   \n",
       "2024-06-26  61789.675781  62434.136719  60695.187500  60811.277344   \n",
       "2024-06-27  60811.226562  62293.863281  60585.332031  61604.800781   \n",
       "2024-06-28  61612.804688  62126.097656  59985.402344  60320.136719   \n",
       "2024-06-29  60319.875000  61097.621094  60300.964844  60887.378906   \n",
       "2024-06-30  60888.445312  62892.828125  60632.949219  62678.292969   \n",
       "2024-07-01  62673.605469  63777.226562  62495.511719  62851.980469   \n",
       "2024-07-02  62844.410156  63203.359375  61752.746094  62029.015625   \n",
       "2024-07-03  62034.332031  62187.703125  59419.386719  60173.921875   \n",
       "2024-07-04  60147.136719  60399.675781  56777.804688  56977.703125   \n",
       "2024-07-05  57022.808594  57497.152344  53717.375000  56662.375000   \n",
       "2024-07-06  56659.074219  58472.546875  56038.960938  58303.539062   \n",
       "2024-07-07  58239.429688  58371.121094  55793.324219  55849.109375   \n",
       "2024-07-08  55849.574219  58131.335938  54321.019531  56705.097656   \n",
       "\n",
       "               Adj Close       Volume  \n",
       "Date                                   \n",
       "2024-06-19  64960.296875  21103423504  \n",
       "2024-06-20  64828.656250  25641109124  \n",
       "2024-06-21  64096.199219  26188171739  \n",
       "2024-06-22  64252.578125   9858198793  \n",
       "2024-06-23  63180.796875  11170471802  \n",
       "2024-06-24  60277.414062  43152133651  \n",
       "2024-06-25  61804.640625  29201215431  \n",
       "2024-06-26  60811.277344  22506003064  \n",
       "2024-06-27  61604.800781  21231745045  \n",
       "2024-06-28  60320.136719  24952866877  \n",
       "2024-06-29  60887.378906  12652903396  \n",
       "2024-06-30  62678.292969  17333226409  \n",
       "2024-07-01  62851.980469  25468379421  \n",
       "2024-07-02  62029.015625  20151616992  \n",
       "2024-07-03  60173.921875  29756701685  \n",
       "2024-07-04  56977.703125  41149609230  \n",
       "2024-07-05  56662.375000  55417544033  \n",
       "2024-07-06  58303.539062  20610320577  \n",
       "2024-07-07  55849.109375  20553359505  \n",
       "2024-07-08  56705.097656  39766159899  "
      ]
     },
     "execution_count": 2,
     "metadata": {},
     "output_type": "execute_result"
    }
   ],
   "source": [
    "# Download Bitcoin price data from Yahoo Finance (data available as far back as 2014-09-16)\n",
    "btc_df = yf.download('BTC-USD', start='2014-09-16', end=datetime.now(), interval='1d')\n",
    "\n",
    "# Display the first few rows of the dataset\n",
    "btc_df.tail(20)"
   ]
  },
  {
   "cell_type": "markdown",
   "id": "2d65d17b",
   "metadata": {},
   "source": [
    "# Calculate Monday to Monday returns:"
   ]
  },
  {
   "cell_type": "code",
   "execution_count": 3,
   "id": "5243c797",
   "metadata": {
    "ExecuteTime": {
     "end_time": "2024-07-09T22:06:29.114638Z",
     "start_time": "2024-07-09T22:06:29.090310Z"
    }
   },
   "outputs": [
    {
     "data": {
      "text/html": [
       "<div>\n",
       "<style scoped>\n",
       "    .dataframe tbody tr th:only-of-type {\n",
       "        vertical-align: middle;\n",
       "    }\n",
       "\n",
       "    .dataframe tbody tr th {\n",
       "        vertical-align: top;\n",
       "    }\n",
       "\n",
       "    .dataframe thead th {\n",
       "        text-align: right;\n",
       "    }\n",
       "</style>\n",
       "<table border=\"1\" class=\"dataframe\">\n",
       "  <thead>\n",
       "    <tr style=\"text-align: right;\">\n",
       "      <th></th>\n",
       "      <th>7_Day_ROI</th>\n",
       "    </tr>\n",
       "    <tr>\n",
       "      <th>Date</th>\n",
       "      <th></th>\n",
       "    </tr>\n",
       "  </thead>\n",
       "  <tbody>\n",
       "    <tr>\n",
       "      <th>2014-09-22</th>\n",
       "      <td>-6.635550</td>\n",
       "    </tr>\n",
       "    <tr>\n",
       "      <th>2014-09-29</th>\n",
       "      <td>-12.088412</td>\n",
       "    </tr>\n",
       "    <tr>\n",
       "      <th>2014-10-06</th>\n",
       "      <td>18.278954</td>\n",
       "    </tr>\n",
       "    <tr>\n",
       "      <th>2014-10-13</th>\n",
       "      <td>-1.938711</td>\n",
       "    </tr>\n",
       "    <tr>\n",
       "      <th>2014-10-20</th>\n",
       "      <td>-7.798453</td>\n",
       "    </tr>\n",
       "    <tr>\n",
       "      <th>...</th>\n",
       "      <td>...</td>\n",
       "    </tr>\n",
       "    <tr>\n",
       "      <th>2024-06-03</th>\n",
       "      <td>1.028272</td>\n",
       "    </tr>\n",
       "    <tr>\n",
       "      <th>2024-06-10</th>\n",
       "      <td>-4.347411</td>\n",
       "    </tr>\n",
       "    <tr>\n",
       "      <th>2024-06-17</th>\n",
       "      <td>-9.344044</td>\n",
       "    </tr>\n",
       "    <tr>\n",
       "      <th>2024-06-24</th>\n",
       "      <td>4.271196</td>\n",
       "    </tr>\n",
       "    <tr>\n",
       "      <th>2024-07-01</th>\n",
       "      <td>-9.779935</td>\n",
       "    </tr>\n",
       "  </tbody>\n",
       "</table>\n",
       "<p>511 rows × 1 columns</p>\n",
       "</div>"
      ],
      "text/plain": [
       "            7_Day_ROI\n",
       "Date                 \n",
       "2014-09-22  -6.635550\n",
       "2014-09-29 -12.088412\n",
       "2014-10-06  18.278954\n",
       "2014-10-13  -1.938711\n",
       "2014-10-20  -7.798453\n",
       "...               ...\n",
       "2024-06-03   1.028272\n",
       "2024-06-10  -4.347411\n",
       "2024-06-17  -9.344044\n",
       "2024-06-24   4.271196\n",
       "2024-07-01  -9.779935\n",
       "\n",
       "[511 rows x 1 columns]"
      ]
     },
     "execution_count": 3,
     "metadata": {},
     "output_type": "execute_result"
    }
   ],
   "source": [
    "# Function to calculate 7-day ROI from Monday to Monday to follow tournament's Monday to Monday forecast schedule.\n",
    "\n",
    "def calculate_monday_to_monday_roi(btc_df):\n",
    "    monday_close = btc_df[btc_df.index.weekday == 0]['Close']\n",
    "    next_monday_close = monday_close.shift(-1)  # Shift by 1 week\n",
    "    weekly_returns = pd.DataFrame({'Monday_Close': monday_close, 'Next_Monday_Close': next_monday_close})\n",
    "    weekly_returns.dropna(inplace=True)\n",
    "    weekly_returns['7_Day_ROI'] = (weekly_returns['Next_Monday_Close'] - weekly_returns['Monday_Close']) / weekly_returns['Monday_Close'] * 100\n",
    "    weekly_returns = weekly_returns[['7_Day_ROI']]  # Only keep the 7_Day_ROI\n",
    "    return weekly_returns\n",
    "\n",
    "# Get the weekly BTC ROI data\n",
    "weekly_btc_df = calculate_monday_to_monday_roi(btc_df)\n",
    "weekly_btc_df"
   ]
  },
  {
   "cell_type": "markdown",
   "id": "6e87d82e",
   "metadata": {},
   "source": [
    "## Step 2: Create the Exponential Smoothing Model:"
   ]
  },
  {
   "cell_type": "code",
   "execution_count": 4,
   "id": "f67acf7b",
   "metadata": {
    "ExecuteTime": {
     "end_time": "2024-07-09T22:06:29.121686Z",
     "start_time": "2024-07-09T22:06:29.117485Z"
    }
   },
   "outputs": [],
   "source": [
    "def weekly_roi_model(train):\n",
    "    model = ExponentialSmoothing(\n",
    "        train['7_Day_ROI'], \n",
    "        seasonal='add', \n",
    "        trend='add', \n",
    "        damped_trend=True, \n",
    "        seasonal_periods=48, \n",
    "        initialization_method='legacy-heuristic'\n",
    "    ).fit()\n",
    "    return model\n"
   ]
  },
  {
   "cell_type": "markdown",
   "id": "cbabef1e",
   "metadata": {},
   "source": [
    "## Write the forecasting function:"
   ]
  },
  {
   "cell_type": "code",
   "execution_count": 5,
   "id": "285d26e0",
   "metadata": {
    "ExecuteTime": {
     "end_time": "2024-07-09T22:06:29.877354Z",
     "start_time": "2024-07-09T22:06:29.124312Z"
    }
   },
   "outputs": [],
   "source": [
    "# Define rolling forecast function for weekly ROI\n",
    "def rolling_forecast(model_func, data, forecast_steps, rolling_periods):\n",
    "    forecasted_rois = []\n",
    "    actual_rois = []\n",
    "    initial_train_size = len(data) - rolling_periods\n",
    "    train_set = data[:initial_train_size]\n",
    "    \n",
    "    for i in range(rolling_periods):\n",
    "        test_set_start = initial_train_size + i\n",
    "        test_set_end = test_set_start + forecast_steps\n",
    "        \n",
    "        # Train model on current training set\n",
    "        model = model_func(train_set)\n",
    "        \n",
    "        # Forecast the next week\n",
    "        forecast = model.forecast(steps=forecast_steps)\n",
    "        forecasted_roi = forecast.iloc[-1]  # Take the last value of the forecast\n",
    "        \n",
    "        # Actual ROI\n",
    "        actual_roi = data['7_Day_ROI'].iloc[test_set_start]\n",
    "        \n",
    "        # Store ROIs\n",
    "        forecasted_rois.append(forecasted_roi)\n",
    "        actual_rois.append(actual_roi)\n",
    "        \n",
    "        # Update training set with actual data of the forecasted week\n",
    "        train_set = data[:test_set_end]\n",
    "    \n",
    "    # Calculate overall MAE\n",
    "    mae = mean_absolute_error(actual_rois, forecasted_rois)\n",
    "    return mae, forecasted_rois, actual_rois\n",
    "\n",
    "# Backtesting parameters\n",
    "forecast_steps = 1  # 1 week\n",
    "rolling_periods = 4  # 4 weeks\n",
    "\n",
    "# Perform rolling forecast\n",
    "mae, forecasted_rois, actual_rois = rolling_forecast(weekly_roi_model, weekly_btc_df, forecast_steps, rolling_periods)"
   ]
  },
  {
   "cell_type": "code",
   "execution_count": 6,
   "id": "b5d7387b",
   "metadata": {
    "ExecuteTime": {
     "end_time": "2024-07-09T22:06:29.885477Z",
     "start_time": "2024-07-09T22:06:29.877354Z"
    }
   },
   "outputs": [
    {
     "name": "stdout",
     "output_type": "stream",
     "text": [
      "MAE: 6.29%\n",
      "Forecasted ROIs: [-0.8779195592241669, -5.047856193585729, -0.4530181279708936, 2.882314677692075]\n",
      "Actual ROIs: [-4.347410731826615, -9.344044326016554, 4.2711958472214855, -9.779934962520759]\n"
     ]
    }
   ],
   "source": [
    "print(f'MAE: {mae:.2f}%')\n",
    "print(f'Forecasted ROIs: {forecasted_rois}')\n",
    "print(f'Actual ROIs: {actual_rois}')"
   ]
  },
  {
   "cell_type": "code",
   "execution_count": 7,
   "id": "11a5630b",
   "metadata": {
    "ExecuteTime": {
     "end_time": "2024-07-09T22:06:30.082187Z",
     "start_time": "2024-07-09T22:06:29.885477Z"
    }
   },
   "outputs": [
    {
     "name": "stdout",
     "output_type": "stream",
     "text": [
      "Forecasted ROI for the week from July 8th to July 15th: 5.722\n"
     ]
    }
   ],
   "source": [
    "# Train the model on the entire dataset\n",
    "model_dhr = weekly_roi_model(weekly_btc_df)\n",
    "\n",
    "# Forecast the ROI for the week from July 8th to July 15th\n",
    "forecasted_roi = model_dhr.forecast(steps=1)[0]\n",
    "print(f'Forecasted ROI for the week from July 8th to July 15th: {forecasted_roi:.3f}')\n"
   ]
  }
 ],
 "metadata": {
  "kernelspec": {
   "display_name": "Python 3 (ipykernel)",
   "language": "python",
   "name": "python3"
  },
  "language_info": {
   "codemirror_mode": {
    "name": "ipython",
    "version": 3
   },
   "file_extension": ".py",
   "mimetype": "text/x-python",
   "name": "python",
   "nbconvert_exporter": "python",
   "pygments_lexer": "ipython3",
   "version": "3.11.4"
  }
 },
 "nbformat": 4,
 "nbformat_minor": 5
}
